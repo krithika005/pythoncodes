{
  "nbformat": 4,
  "nbformat_minor": 0,
  "metadata": {
    "colab": {
      "provenance": [],
      "authorship_tag": "ABX9TyP7FDAsNTmFbthMKlUMfNjQ",
      "include_colab_link": true
    },
    "kernelspec": {
      "name": "python3",
      "display_name": "Python 3"
    },
    "language_info": {
      "name": "python"
    }
  },
  "cells": [
    {
      "cell_type": "markdown",
      "metadata": {
        "id": "view-in-github",
        "colab_type": "text"
      },
      "source": [
        "<a href=\"https://colab.research.google.com/github/krithika005/pythoncodes/blob/main/training.ipynb\" target=\"_parent\"><img src=\"https://colab.research.google.com/assets/colab-badge.svg\" alt=\"Open In Colab\"/></a>"
      ]
    },
    {
      "cell_type": "code",
      "execution_count": null,
      "metadata": {
        "id": "Q4WgolJWuiit"
      },
      "outputs": [],
      "source": [
        "# prompt: python program for standard deviation\n",
        "\n",
        "import math\n",
        "\n",
        "def calculate_standard_deviation(data):\n",
        "    n = len(data)\n",
        "    if n == 0:\n",
        "        return 0  # Handle empty dataset\n",
        "\n",
        "    mean = sum(data) / n\n",
        "    variance = sum([(x - mean) ** 2 for x in data]) / n\n",
        "    standard_deviation = math.sqrt(variance)\n",
        "    return standard_deviation\n",
        "\n",
        "# Example usage\n",
        "data = [2, 4, 4, 4, 5, 5, 7, 9]\n",
        "std_dev = calculate_standard_deviation(data)\n",
        "print(\"Standard Deviation:\", std_dev)\n"
      ]
    },
    {
      "cell_type": "code",
      "source": [
        "my_list = [10, 20, 30, 40, 50]\n",
        "\n",
        "print(my_list[0])\n",
        "print(my_list[3])\n",
        "\n",
        "print(my_list[1:4])\n",
        "\n",
        "my_list[2] = 35\n",
        "print(my_list)"
      ],
      "metadata": {
        "id": "mXV1N5Id8NTe"
      },
      "execution_count": null,
      "outputs": []
    },
    {
      "cell_type": "code",
      "source": [
        "mark1 = float(input(\"Enter marks for subject 1: \"))\n",
        "mark2 = float(input(\"Enter marks for subject 2: \"))\n",
        "mark3 = float(input(\"Enter marks for subject 3: \"))\n",
        "\n",
        "average = (mark1 + mark2 + mark3) / 3\n",
        "\n",
        "if average >= 90:\n",
        "    grade = \"A\"\n",
        "elif 80 <= average < 90:\n",
        "    grade = \"B\"\n",
        "elif 70 <= average < 80:\n",
        "    grade = \"C\"\n",
        "else:\n",
        "    grade = \"Fail\"\n",
        "\n",
        "print(f\"Average: {average:.2f}\")\n",
        "print(f\"Grade: {grade}\")\n"
      ],
      "metadata": {
        "id": "5mHvi6dY_aOG"
      },
      "execution_count": null,
      "outputs": []
    },
    {
      "cell_type": "code",
      "source": [
        "n = int(input(\"Enter a positive integer: \"))\n",
        "\n",
        "sum_of_evens = 0\n",
        "\n",
        "for i in range(1, n + 1):\n",
        "    if i % 2 == 0:\n",
        "        sum_of_evens += i\n",
        "\n",
        "print(f\"The sum of all even numbers between 1 and {n} is: {sum_of_evens}\")\n"
      ],
      "metadata": {
        "id": "9DQmv5wx_vTg"
      },
      "execution_count": null,
      "outputs": []
    },
    {
      "cell_type": "code",
      "source": [
        "n = int(input(\"Enter a positive integer: \"))\n",
        "\n",
        "print(\"Numbers from 1 to\", n, \":\")\n",
        "for i in range(1, n + 1):\n",
        "    print(i)\n",
        "\n",
        "sum_of_numbers = 0\n",
        "i = 1\n",
        "while i <= n:\n",
        "    sum_of_numbers += i\n",
        "    i += 1\n",
        "\n",
        "print(f\"The sum of all numbers from 1 to {n} is: {sum_of_numbers}\")\n"
      ],
      "metadata": {
        "id": "ory2yzR8AJDa"
      },
      "execution_count": null,
      "outputs": []
    },
    {
      "cell_type": "code",
      "source": [
        "def calculate_square(n):\n",
        "    return n ** 2\n",
        "\n",
        "num = int(input(\"Enter a positive integer: \"))\n",
        "\n",
        "square = calculate_square(num)\n",
        "print(f\"The square of {num} is: {square}\")\n"
      ],
      "metadata": {
        "id": "FMwT2WWJAscV"
      },
      "execution_count": null,
      "outputs": []
    }
  ]
}