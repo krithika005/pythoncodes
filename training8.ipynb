{
  "nbformat": 4,
  "nbformat_minor": 0,
  "metadata": {
    "colab": {
      "provenance": [],
      "authorship_tag": "ABX9TyN9NF7jz/vKy364nQO/6oSO",
      "include_colab_link": true
    },
    "kernelspec": {
      "name": "python3",
      "display_name": "Python 3"
    },
    "language_info": {
      "name": "python"
    }
  },
  "cells": [
    {
      "cell_type": "markdown",
      "metadata": {
        "id": "view-in-github",
        "colab_type": "text"
      },
      "source": [
        "<a href=\"https://colab.research.google.com/github/krithika005/pythoncodes/blob/main/training8.ipynb\" target=\"_parent\"><img src=\"https://colab.research.google.com/assets/colab-badge.svg\" alt=\"Open In Colab\"/></a>"
      ]
    },
    {
      "cell_type": "code",
      "execution_count": 2,
      "metadata": {
        "id": "MdwWgVvx10Xg"
      },
      "outputs": [],
      "source": [
        "import numpy as np"
      ]
    },
    {
      "cell_type": "code",
      "source": [
        "np.random.randint(18,21,200)"
      ],
      "metadata": {
        "colab": {
          "base_uri": "https://localhost:8080/"
        },
        "id": "edWLAMd-5puj",
        "outputId": "76e936e2-eb97-4dfc-feea-3e523336fb29"
      },
      "execution_count": 3,
      "outputs": [
        {
          "output_type": "execute_result",
          "data": {
            "text/plain": [
              "array([18, 19, 20, 20, 18, 19, 18, 18, 18, 20, 18, 18, 19, 18, 18, 20, 19,\n",
              "       18, 19, 20, 18, 20, 19, 20, 18, 20, 18, 19, 19, 18, 20, 20, 19, 18,\n",
              "       19, 20, 19, 20, 20, 20, 18, 20, 19, 18, 19, 20, 20, 18, 18, 18, 19,\n",
              "       18, 20, 20, 19, 20, 20, 18, 19, 18, 18, 18, 19, 18, 19, 20, 20, 20,\n",
              "       20, 19, 18, 19, 20, 20, 20, 19, 18, 19, 20, 19, 19, 18, 19, 18, 18,\n",
              "       18, 20, 20, 18, 20, 19, 20, 18, 20, 20, 18, 18, 20, 18, 19, 19, 18,\n",
              "       19, 20, 19, 20, 18, 19, 18, 20, 19, 20, 18, 18, 19, 19, 19, 20, 20,\n",
              "       18, 19, 19, 20, 20, 19, 18, 19, 19, 20, 20, 20, 20, 19, 20, 20, 19,\n",
              "       18, 18, 20, 20, 18, 18, 19, 20, 20, 20, 20, 19, 20, 20, 20, 20, 20,\n",
              "       18, 19, 20, 18, 19, 18, 18, 20, 19, 19, 19, 19, 19, 19, 18, 20, 19,\n",
              "       20, 20, 19, 20, 20, 19, 18, 20, 19, 19, 18, 18, 18, 20, 18, 19, 19,\n",
              "       20, 20, 20, 20, 18, 18, 18, 18, 20, 20, 20, 20, 19])"
            ]
          },
          "metadata": {},
          "execution_count": 3
        }
      ]
    },
    {
      "cell_type": "code",
      "source": [
        "np.random.normal(18,21,100)"
      ],
      "metadata": {
        "colab": {
          "base_uri": "https://localhost:8080/"
        },
        "id": "Gh66Eo-F5uDW",
        "outputId": "d50b593b-baf5-4542-abea-1abcc5f316c8"
      },
      "execution_count": 5,
      "outputs": [
        {
          "output_type": "execute_result",
          "data": {
            "text/plain": [
              "array([  4.2654142 ,  22.41468903,   9.21622963,  37.85609924,\n",
              "        40.07525614,  18.88237279,  42.7378321 , -16.97673962,\n",
              "       -15.77493221, -39.23668942,   6.08019775,  26.06059941,\n",
              "         3.74138917, -10.40133559,  20.21891329,  58.31586473,\n",
              "        39.36363729,  12.33891173,  10.55125152,  25.32588843,\n",
              "         6.63465443,  -2.00546473,  19.43735689,  -4.69203334,\n",
              "        -0.30402409,   0.28997936,  -9.41463624,  -1.02530185,\n",
              "        14.52988541, -32.88217253,  55.70480289,  22.8047017 ,\n",
              "        17.11606769,  53.40525479,  36.10596413,  26.37077065,\n",
              "        31.25340256,  21.84179795,   7.95416399,  31.93207549,\n",
              "        -8.4623824 ,  -0.37060269,  17.3802675 ,  28.48921833,\n",
              "        -7.55617793,   4.98298082,  48.09117209,  32.65503744,\n",
              "         8.84986434,  41.87863798,   6.71532983,  35.50372219,\n",
              "        47.04605385,  33.06420725,  -2.96871604,   3.33460014,\n",
              "        40.52816429, -15.98168849,   7.6596275 ,  27.67804432,\n",
              "        22.57711989,   3.91194135,  19.07885813,  47.24389604,\n",
              "        35.36454286,  26.62500003, -37.73527177,  22.67835209,\n",
              "         3.45035724, -10.64400035,  -0.74218373,  32.98680446,\n",
              "         6.51009743,   2.70294929,   0.32920803,  42.80059571,\n",
              "        26.76474258,  17.29665831,   9.19980208,   5.23471128,\n",
              "        17.4178025 ,  30.04705168,  53.79148183,  55.59580006,\n",
              "       -27.24226082,  -3.51810099,   0.98069627,  14.70913626,\n",
              "         7.27823001,  43.558634  ,  19.71852318, -22.84561728,\n",
              "        67.52727266, -12.04062184,  27.4177013 ,  10.9563088 ,\n",
              "        40.35161047, -21.15879537,  20.85742703,  15.3978858 ])"
            ]
          },
          "metadata": {},
          "execution_count": 5
        }
      ]
    },
    {
      "cell_type": "code",
      "source": [
        "h=[30,20,5,8,9]\n",
        "h"
      ],
      "metadata": {
        "colab": {
          "base_uri": "https://localhost:8080/"
        },
        "id": "wnKKrm5j51OO",
        "outputId": "509978e0-a2f1-4016-f351-8e7905ceee1f"
      },
      "execution_count": 11,
      "outputs": [
        {
          "output_type": "execute_result",
          "data": {
            "text/plain": [
              "[30, 20, 5, 8, 9]"
            ]
          },
          "metadata": {},
          "execution_count": 11
        }
      ]
    },
    {
      "cell_type": "code",
      "source": [
        "d=[]\n",
        "for i in h:\n",
        "  d.append(i+5)\n",
        "d"
      ],
      "metadata": {
        "colab": {
          "base_uri": "https://localhost:8080/"
        },
        "id": "S_vu6rOo8SqL",
        "outputId": "44ae6e11-8ca8-4a3e-ba31-b130ee8ec691"
      },
      "execution_count": 14,
      "outputs": [
        {
          "output_type": "execute_result",
          "data": {
            "text/plain": [
              "[35, 25, 10, 13, 14]"
            ]
          },
          "metadata": {},
          "execution_count": 14
        }
      ]
    },
    {
      "cell_type": "code",
      "source": [
        "s=(6,2,3,9,7,5,8)\n",
        "s"
      ],
      "metadata": {
        "colab": {
          "base_uri": "https://localhost:8080/"
        },
        "id": "Dt32Q_ke8Tsd",
        "outputId": "8034ce85-2c05-4b85-aa63-bf7371addac8"
      },
      "execution_count": 16,
      "outputs": [
        {
          "output_type": "execute_result",
          "data": {
            "text/plain": [
              "(6, 2, 3, 9, 7, 5, 8)"
            ]
          },
          "metadata": {},
          "execution_count": 16
        }
      ]
    },
    {
      "cell_type": "code",
      "source": [
        "tuple(x**2 for x in s)"
      ],
      "metadata": {
        "colab": {
          "base_uri": "https://localhost:8080/"
        },
        "id": "3_7gIthR8vF0",
        "outputId": "94de9876-f3d3-453c-b0fb-eb0f07d01e81"
      },
      "execution_count": 20,
      "outputs": [
        {
          "output_type": "execute_result",
          "data": {
            "text/plain": [
              "(36, 4, 9, 81, 49, 25, 64)"
            ]
          },
          "metadata": {},
          "execution_count": 20
        }
      ]
    },
    {
      "cell_type": "code",
      "source": [
        "y=list(s)\n",
        "k=[]\n",
        "for i in y:\n",
        "  k.append(i**2)\n",
        "s=tuple(k)\n",
        "s"
      ],
      "metadata": {
        "colab": {
          "base_uri": "https://localhost:8080/"
        },
        "id": "Ka0abic29EaB",
        "outputId": "0a43a797-e2ad-42f1-fd1a-00583f93db6d"
      },
      "execution_count": 24,
      "outputs": [
        {
          "output_type": "execute_result",
          "data": {
            "text/plain": [
              "(1679616, 256, 6561, 43046721, 5764801, 390625, 16777216)"
            ]
          },
          "metadata": {},
          "execution_count": 24
        }
      ]
    },
    {
      "cell_type": "code",
      "source": [
        "m=[]\n",
        "for i in s:\n",
        "  if i>30:\n",
        "    m.append(i)"
      ],
      "metadata": {
        "id": "JLgeEX4n9jja"
      },
      "execution_count": 25,
      "outputs": []
    },
    {
      "cell_type": "code",
      "source": [
        "m"
      ],
      "metadata": {
        "colab": {
          "base_uri": "https://localhost:8080/"
        },
        "id": "4Z-bMR3p_Cgb",
        "outputId": "4b8e09a6-b447-419e-890a-e1448c224a70"
      },
      "execution_count": 26,
      "outputs": [
        {
          "output_type": "execute_result",
          "data": {
            "text/plain": [
              "[1679616, 256, 6561, 43046721, 5764801, 390625, 16777216]"
            ]
          },
          "metadata": {},
          "execution_count": 26
        }
      ]
    },
    {
      "cell_type": "code",
      "source": [],
      "metadata": {
        "id": "Y7ALlKxh_E4u"
      },
      "execution_count": null,
      "outputs": []
    }
  ]
}