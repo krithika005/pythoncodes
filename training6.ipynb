{
  "nbformat": 4,
  "nbformat_minor": 0,
  "metadata": {
    "colab": {
      "provenance": [],
      "authorship_tag": "ABX9TyO+A0TI7aU3HwgFeCYjexwC",
      "include_colab_link": true
    },
    "kernelspec": {
      "name": "python3",
      "display_name": "Python 3"
    },
    "language_info": {
      "name": "python"
    }
  },
  "cells": [
    {
      "cell_type": "markdown",
      "metadata": {
        "id": "view-in-github",
        "colab_type": "text"
      },
      "source": [
        "<a href=\"https://colab.research.google.com/github/krithika005/pythoncodes/blob/main/training6.ipynb\" target=\"_parent\"><img src=\"https://colab.research.google.com/assets/colab-badge.svg\" alt=\"Open In Colab\"/></a>"
      ]
    },
    {
      "cell_type": "code",
      "execution_count": 1,
      "metadata": {
        "id": "Y1XAAr8aCoAe"
      },
      "outputs": [],
      "source": [
        "import numpy as np"
      ]
    },
    {
      "cell_type": "code",
      "source": [
        "d=np.array([10,28,30,39,48])\n",
        "d"
      ],
      "metadata": {
        "colab": {
          "base_uri": "https://localhost:8080/"
        },
        "id": "d-yxohjyCqad",
        "outputId": "3a7b715a-0123-45bb-8bb9-1c0ffaefe785"
      },
      "execution_count": 5,
      "outputs": [
        {
          "output_type": "execute_result",
          "data": {
            "text/plain": [
              "array([10, 28, 30, 39, 48])"
            ]
          },
          "metadata": {},
          "execution_count": 5
        }
      ]
    },
    {
      "cell_type": "code",
      "source": [
        "np.mean(d)"
      ],
      "metadata": {
        "colab": {
          "base_uri": "https://localhost:8080/"
        },
        "id": "1_hhaxKoC0Eh",
        "outputId": "e60dd24a-4d96-4436-9432-a1177d3365ce"
      },
      "execution_count": 7,
      "outputs": [
        {
          "output_type": "execute_result",
          "data": {
            "text/plain": [
              "31.0"
            ]
          },
          "metadata": {},
          "execution_count": 7
        }
      ]
    },
    {
      "cell_type": "code",
      "source": [
        "np.median(d)"
      ],
      "metadata": {
        "colab": {
          "base_uri": "https://localhost:8080/"
        },
        "id": "Uv75aW7KDDOT",
        "outputId": "e9bc20ca-add1-47c7-b8a5-f9118c4b13e5"
      },
      "execution_count": 8,
      "outputs": [
        {
          "output_type": "execute_result",
          "data": {
            "text/plain": [
              "30.0"
            ]
          },
          "metadata": {},
          "execution_count": 8
        }
      ]
    },
    {
      "cell_type": "code",
      "source": [
        "np.min(d)"
      ],
      "metadata": {
        "colab": {
          "base_uri": "https://localhost:8080/"
        },
        "id": "BhdDRAbyDJH_",
        "outputId": "cdb1e864-1f94-476f-e515-b864d24f604c"
      },
      "execution_count": 10,
      "outputs": [
        {
          "output_type": "execute_result",
          "data": {
            "text/plain": [
              "10"
            ]
          },
          "metadata": {},
          "execution_count": 10
        }
      ]
    },
    {
      "cell_type": "code",
      "source": [
        "np.max(d)"
      ],
      "metadata": {
        "colab": {
          "base_uri": "https://localhost:8080/"
        },
        "id": "5uKwv4kdDLdV",
        "outputId": "d5ffb319-b35b-4425-b8c8-9eebec81916c"
      },
      "execution_count": 11,
      "outputs": [
        {
          "output_type": "execute_result",
          "data": {
            "text/plain": [
              "48"
            ]
          },
          "metadata": {},
          "execution_count": 11
        }
      ]
    },
    {
      "cell_type": "code",
      "source": [
        "np.var(d)"
      ],
      "metadata": {
        "colab": {
          "base_uri": "https://localhost:8080/"
        },
        "id": "u_0gkOaxDQLL",
        "outputId": "23174f46-d183-4e5b-8ea5-63399d663c97"
      },
      "execution_count": 12,
      "outputs": [
        {
          "output_type": "execute_result",
          "data": {
            "text/plain": [
              "160.8"
            ]
          },
          "metadata": {},
          "execution_count": 12
        }
      ]
    },
    {
      "cell_type": "code",
      "source": [
        "np.std(d)"
      ],
      "metadata": {
        "colab": {
          "base_uri": "https://localhost:8080/"
        },
        "id": "GMZhMn1FDUdA",
        "outputId": "b51ebc6a-3f2c-4d23-d3cb-f8d6e14c0d89"
      },
      "execution_count": 13,
      "outputs": [
        {
          "output_type": "execute_result",
          "data": {
            "text/plain": [
              "12.680693987317888"
            ]
          },
          "metadata": {},
          "execution_count": 13
        }
      ]
    },
    {
      "cell_type": "code",
      "source": [
        "q2=np.quantile(d,0.5)\n",
        "q2"
      ],
      "metadata": {
        "colab": {
          "base_uri": "https://localhost:8080/"
        },
        "id": "fcDO4eJTDWHB",
        "outputId": "98b7e3fc-b93f-4379-b74f-3ecb59e50c45"
      },
      "execution_count": 18,
      "outputs": [
        {
          "output_type": "execute_result",
          "data": {
            "text/plain": [
              "30.0"
            ]
          },
          "metadata": {},
          "execution_count": 18
        }
      ]
    },
    {
      "cell_type": "code",
      "source": [
        "np.quantile(d,1)"
      ],
      "metadata": {
        "colab": {
          "base_uri": "https://localhost:8080/"
        },
        "id": "pY_HWl3kDbkq",
        "outputId": "89a5f568-c27e-448e-9102-24d5fb5d55fb"
      },
      "execution_count": 15,
      "outputs": [
        {
          "output_type": "execute_result",
          "data": {
            "text/plain": [
              "48"
            ]
          },
          "metadata": {},
          "execution_count": 15
        }
      ]
    },
    {
      "cell_type": "code",
      "source": [
        "q3=np.quantile(d,0.75)\n",
        "q3"
      ],
      "metadata": {
        "colab": {
          "base_uri": "https://localhost:8080/"
        },
        "id": "q-5Xcv4MDrZi",
        "outputId": "48116520-fe77-4f76-8448-4f933884bdab"
      },
      "execution_count": 19,
      "outputs": [
        {
          "output_type": "execute_result",
          "data": {
            "text/plain": [
              "39.0"
            ]
          },
          "metadata": {},
          "execution_count": 19
        }
      ]
    },
    {
      "cell_type": "code",
      "source": [
        "q1=np.quantile(d,0.25)\n",
        "q1"
      ],
      "metadata": {
        "colab": {
          "base_uri": "https://localhost:8080/"
        },
        "id": "h1kOlCYCFsTE",
        "outputId": "7200235f-9a86-4cd5-acc2-f8b726f84d40"
      },
      "execution_count": 20,
      "outputs": [
        {
          "output_type": "execute_result",
          "data": {
            "text/plain": [
              "28.0"
            ]
          },
          "metadata": {},
          "execution_count": 20
        }
      ]
    },
    {
      "cell_type": "code",
      "source": [
        "np.random.rand(10,5)"
      ],
      "metadata": {
        "colab": {
          "base_uri": "https://localhost:8080/"
        },
        "id": "DLsmjc-XFxmv",
        "outputId": "b128c44c-1c56-4455-ae2f-1f486f049c33"
      },
      "execution_count": 21,
      "outputs": [
        {
          "output_type": "execute_result",
          "data": {
            "text/plain": [
              "array([[0.68810839, 0.87486422, 0.44142691, 0.96467893, 0.1783164 ],\n",
              "       [0.46358745, 0.70404579, 0.34099469, 0.51729768, 0.55119369],\n",
              "       [0.53376352, 0.08097388, 0.9264224 , 0.72591726, 0.72000277],\n",
              "       [0.03116537, 0.63154331, 0.44672166, 0.5066697 , 0.36403403],\n",
              "       [0.71139448, 0.61638104, 0.01160393, 0.69751545, 0.07061255],\n",
              "       [0.26292931, 0.80612568, 0.18770028, 0.73422416, 0.30514062],\n",
              "       [0.59243995, 0.32020139, 0.03746047, 0.47322269, 0.75588125],\n",
              "       [0.8260879 , 0.1426926 , 0.44626668, 0.6562671 , 0.606415  ],\n",
              "       [0.66184373, 0.36294572, 0.47878863, 0.15026354, 0.0747887 ],\n",
              "       [0.36477743, 0.31249246, 0.9955214 , 0.82030671, 0.34800876]])"
            ]
          },
          "metadata": {},
          "execution_count": 21
        }
      ]
    },
    {
      "cell_type": "code",
      "source": [
        "r=np.random.rand(100)\n",
        "r"
      ],
      "metadata": {
        "colab": {
          "base_uri": "https://localhost:8080/"
        },
        "id": "PNAah3hWLRSA",
        "outputId": "4b7f721e-5787-451e-f147-dc4796bacceb"
      },
      "execution_count": 25,
      "outputs": [
        {
          "output_type": "execute_result",
          "data": {
            "text/plain": [
              "array([0.89907833, 0.27110904, 0.76155892, 0.63148631, 0.93667622,\n",
              "       0.19693024, 0.3244526 , 0.96252757, 0.85869195, 0.85353409,\n",
              "       0.24633388, 0.69823827, 0.731803  , 0.90435717, 0.62302683,\n",
              "       0.15238106, 0.08271272, 0.94401265, 0.9604071 , 0.18164853,\n",
              "       0.91778604, 0.87503198, 0.74084229, 0.20125914, 0.53892906,\n",
              "       0.22546009, 0.28867813, 0.11102541, 0.28535354, 0.57024529,\n",
              "       0.73602129, 0.5393598 , 0.97009952, 0.07931589, 0.24171505,\n",
              "       0.91056986, 0.5737673 , 0.67582286, 0.89394795, 0.46649417,\n",
              "       0.42717789, 0.66037529, 0.11558946, 0.27598734, 0.31118416,\n",
              "       0.58814233, 0.31494996, 0.06441754, 0.60826289, 0.18823743,\n",
              "       0.90807709, 0.14936123, 0.88993887, 0.93160724, 0.11166914,\n",
              "       0.21977935, 0.79507882, 0.43610862, 0.64651552, 0.41576408,\n",
              "       0.72321806, 0.25836019, 0.31383827, 0.00829119, 0.54766038,\n",
              "       0.2723988 , 0.90785061, 0.96860961, 0.56567146, 0.11804251,\n",
              "       0.67839256, 0.85374594, 0.39085148, 0.7601101 , 0.84353959,\n",
              "       0.08218077, 0.03875679, 0.39352109, 0.73616809, 0.834151  ,\n",
              "       0.43478732, 0.38693309, 0.00277859, 0.459371  , 0.28280925,\n",
              "       0.74492898, 0.53021835, 0.39801173, 0.79845578, 0.51535335,\n",
              "       0.79153331, 0.22373786, 0.10787098, 0.83036095, 0.16919899,\n",
              "       0.32732241, 0.141167  , 0.21482149, 0.43370832, 0.46520269])"
            ]
          },
          "metadata": {},
          "execution_count": 25
        }
      ]
    },
    {
      "cell_type": "code",
      "source": [
        "r.size"
      ],
      "metadata": {
        "colab": {
          "base_uri": "https://localhost:8080/"
        },
        "id": "3Yydr0zKLi_8",
        "outputId": "a17c2361-9090-4154-cfe0-87e26d89a1cd"
      },
      "execution_count": 26,
      "outputs": [
        {
          "output_type": "execute_result",
          "data": {
            "text/plain": [
              "100"
            ]
          },
          "metadata": {},
          "execution_count": 26
        }
      ]
    },
    {
      "cell_type": "code",
      "source": [
        "r.ndim"
      ],
      "metadata": {
        "colab": {
          "base_uri": "https://localhost:8080/"
        },
        "id": "uLnv0ebKL1n-",
        "outputId": "d5d404d5-77bf-4c66-83bc-86b11ef7e036"
      },
      "execution_count": 27,
      "outputs": [
        {
          "output_type": "execute_result",
          "data": {
            "text/plain": [
              "1"
            ]
          },
          "metadata": {},
          "execution_count": 27
        }
      ]
    },
    {
      "cell_type": "code",
      "source": [
        "r.shape"
      ],
      "metadata": {
        "colab": {
          "base_uri": "https://localhost:8080/"
        },
        "id": "ykthRjY-L284",
        "outputId": "e80a7cc7-99c5-4649-9668-2cacdd92ff88"
      },
      "execution_count": 28,
      "outputs": [
        {
          "output_type": "execute_result",
          "data": {
            "text/plain": [
              "(100,)"
            ]
          },
          "metadata": {},
          "execution_count": 28
        }
      ]
    },
    {
      "cell_type": "code",
      "source": [
        "r=np.random.rand(10,5)\n",
        "r"
      ],
      "metadata": {
        "colab": {
          "base_uri": "https://localhost:8080/"
        },
        "id": "ypwDs8OSL43C",
        "outputId": "b05f386f-c618-42bd-9c22-29313463e48b"
      },
      "execution_count": 29,
      "outputs": [
        {
          "output_type": "execute_result",
          "data": {
            "text/plain": [
              "array([[0.48395809, 0.0570253 , 0.28884075, 0.87774576, 0.28793416],\n",
              "       [0.37313085, 0.92163839, 0.43665756, 0.71043409, 0.35769055],\n",
              "       [0.78782709, 0.48518065, 0.97459687, 0.21087498, 0.81224094],\n",
              "       [0.77802486, 0.5599364 , 0.20921683, 0.34701744, 0.71308955],\n",
              "       [0.88495582, 0.51060107, 0.52196262, 0.90776422, 0.78228025],\n",
              "       [0.59211321, 0.4168371 , 0.9444424 , 0.60858759, 0.05888361],\n",
              "       [0.73656698, 0.97691528, 0.14889608, 0.99246485, 0.97553128],\n",
              "       [0.03020396, 0.80375044, 0.96443185, 0.50118158, 0.45577382],\n",
              "       [0.22397934, 0.8136543 , 0.88606223, 0.71581613, 0.89051764],\n",
              "       [0.97243014, 0.98746247, 0.90139031, 0.71348329, 0.64987777]])"
            ]
          },
          "metadata": {},
          "execution_count": 29
        }
      ]
    },
    {
      "cell_type": "code",
      "source": [
        "r.ndim"
      ],
      "metadata": {
        "colab": {
          "base_uri": "https://localhost:8080/"
        },
        "id": "ySdD4EG8MBnG",
        "outputId": "6e0b01e8-6efa-4fc0-b707-dca6b94eea85"
      },
      "execution_count": 31,
      "outputs": [
        {
          "output_type": "execute_result",
          "data": {
            "text/plain": [
              "2"
            ]
          },
          "metadata": {},
          "execution_count": 31
        }
      ]
    },
    {
      "cell_type": "code",
      "source": [
        "r.size"
      ],
      "metadata": {
        "colab": {
          "base_uri": "https://localhost:8080/"
        },
        "id": "fBo87QJeMDai",
        "outputId": "f91b6b52-8af6-4890-f0f8-6b809a47faba"
      },
      "execution_count": 32,
      "outputs": [
        {
          "output_type": "execute_result",
          "data": {
            "text/plain": [
              "50"
            ]
          },
          "metadata": {},
          "execution_count": 32
        }
      ]
    },
    {
      "cell_type": "code",
      "source": [
        "r.shape"
      ],
      "metadata": {
        "colab": {
          "base_uri": "https://localhost:8080/"
        },
        "id": "KT--isIVMHZA",
        "outputId": "9230623b-5969-4a31-f18f-72365b758af2"
      },
      "execution_count": 33,
      "outputs": [
        {
          "output_type": "execute_result",
          "data": {
            "text/plain": [
              "(10, 5)"
            ]
          },
          "metadata": {},
          "execution_count": 33
        }
      ]
    },
    {
      "cell_type": "code",
      "source": [
        "s=np.random.randn(5,4,3)\n",
        "s"
      ],
      "metadata": {
        "colab": {
          "base_uri": "https://localhost:8080/"
        },
        "id": "E9NLnZIwMJmc",
        "outputId": "ae890823-ab26-456a-85e8-d10c66d9070c"
      },
      "execution_count": 37,
      "outputs": [
        {
          "output_type": "execute_result",
          "data": {
            "text/plain": [
              "array([[[ 0.57382312,  0.65808096,  0.15715285],\n",
              "        [-0.08936152,  0.12365737, -1.32476449],\n",
              "        [ 0.15749619, -1.18706368, -1.67383927],\n",
              "        [ 0.99080813, -0.71180244, -0.13008051]],\n",
              "\n",
              "       [[-1.1245244 , -0.14602996, -1.29722772],\n",
              "        [ 0.86937238, -0.59700469, -0.01008858],\n",
              "        [-0.97260549,  0.44925626,  0.64767334],\n",
              "        [ 0.34905736, -0.01329223,  1.05691639]],\n",
              "\n",
              "       [[-2.53497619, -0.01574927, -0.28501224],\n",
              "        [-0.55950909,  0.46174787,  0.52886457],\n",
              "        [-1.65174076,  1.26010949, -0.68102658],\n",
              "        [ 0.27810355,  0.02767114, -1.93637699]],\n",
              "\n",
              "       [[ 0.02743167, -0.7135361 ,  0.86125952],\n",
              "        [ 1.12016201, -0.92376252, -0.85079241],\n",
              "        [ 1.69629723, -0.27155011, -0.72642405],\n",
              "        [ 1.82924774,  0.39908575,  1.75776547]],\n",
              "\n",
              "       [[-1.57134555,  0.01484702,  0.66004145],\n",
              "        [ 0.53967908,  0.52593874, -0.48717687],\n",
              "        [-1.43481698,  0.27002245,  0.49965303],\n",
              "        [ 0.76130847, -0.57709794, -2.245993  ]]])"
            ]
          },
          "metadata": {},
          "execution_count": 37
        }
      ]
    },
    {
      "cell_type": "code",
      "source": [
        "np.random.rand()"
      ],
      "metadata": {
        "colab": {
          "base_uri": "https://localhost:8080/"
        },
        "id": "HpcCBT-FMjM3",
        "outputId": "87b09d40-aa34-4b0b-f1bd-f91e9358a7f5"
      },
      "execution_count": 38,
      "outputs": [
        {
          "output_type": "execute_result",
          "data": {
            "text/plain": [
              "0.03987684093633215"
            ]
          },
          "metadata": {},
          "execution_count": 38
        }
      ]
    },
    {
      "cell_type": "code",
      "source": [
        "np.random.normal(6,5,4)"
      ],
      "metadata": {
        "colab": {
          "base_uri": "https://localhost:8080/"
        },
        "id": "Z_muhjzKNSd7",
        "outputId": "62073d19-f248-4d2d-c820-b30fac0e1c4b"
      },
      "execution_count": 44,
      "outputs": [
        {
          "output_type": "execute_result",
          "data": {
            "text/plain": [
              "array([ 6.57808965, 10.75253807,  4.08904584,  8.15913036])"
            ]
          },
          "metadata": {},
          "execution_count": 44
        }
      ]
    },
    {
      "cell_type": "code",
      "source": [
        "np.random.normal(10,3)"
      ],
      "metadata": {
        "colab": {
          "base_uri": "https://localhost:8080/"
        },
        "id": "jNEhSByrNeH0",
        "outputId": "fc009b0f-afc4-4928-f516-8c750750757e"
      },
      "execution_count": 45,
      "outputs": [
        {
          "output_type": "execute_result",
          "data": {
            "text/plain": [
              "13.76002618472306"
            ]
          },
          "metadata": {},
          "execution_count": 45
        }
      ]
    },
    {
      "cell_type": "code",
      "source": [
        "np.random.normal(30,2,(2,1))"
      ],
      "metadata": {
        "colab": {
          "base_uri": "https://localhost:8080/"
        },
        "id": "KqdKXJxxNvGQ",
        "outputId": "35eb92cb-9763-4907-a645-e1ab66110794"
      },
      "execution_count": 46,
      "outputs": [
        {
          "output_type": "execute_result",
          "data": {
            "text/plain": [
              "array([[30.72318951],\n",
              "       [31.87703081]])"
            ]
          },
          "metadata": {},
          "execution_count": 46
        }
      ]
    },
    {
      "cell_type": "code",
      "source": [
        "np.random.randint(23,56,100)"
      ],
      "metadata": {
        "colab": {
          "base_uri": "https://localhost:8080/"
        },
        "id": "pMbL8a53OG6p",
        "outputId": "c76a7c35-9a62-4096-abb6-cccffb955b04"
      },
      "execution_count": 51,
      "outputs": [
        {
          "output_type": "execute_result",
          "data": {
            "text/plain": [
              "array([37, 30, 29, 46, 50, 55, 32, 46, 44, 32, 33, 40, 52, 39, 27, 39, 50,\n",
              "       27, 53, 39, 25, 37, 55, 46, 52, 40, 23, 30, 35, 32, 48, 53, 35, 33,\n",
              "       51, 31, 40, 53, 41, 53, 38, 49, 39, 35, 38, 41, 47, 30, 44, 33, 38,\n",
              "       26, 43, 34, 48, 36, 32, 30, 34, 24, 48, 38, 29, 49, 45, 28, 27, 42,\n",
              "       45, 28, 28, 30, 41, 34, 55, 24, 33, 33, 34, 53, 55, 32, 31, 55, 28,\n",
              "       31, 31, 39, 30, 53, 28, 36, 26, 47, 51, 26, 44, 42, 36, 23])"
            ]
          },
          "metadata": {},
          "execution_count": 51
        }
      ]
    },
    {
      "cell_type": "code",
      "source": [
        "np.random.randint(35,86,(5,5))"
      ],
      "metadata": {
        "colab": {
          "base_uri": "https://localhost:8080/"
        },
        "id": "HQiyr9OCOht7",
        "outputId": "9bf6960f-49ee-44f6-8291-c478ce6dea82"
      },
      "execution_count": 52,
      "outputs": [
        {
          "output_type": "execute_result",
          "data": {
            "text/plain": [
              "array([[85, 36, 66, 82, 73],\n",
              "       [48, 43, 76, 49, 84],\n",
              "       [85, 71, 85, 37, 76],\n",
              "       [47, 36, 85, 41, 63],\n",
              "       [83, 47, 72, 47, 67]])"
            ]
          },
          "metadata": {},
          "execution_count": 52
        }
      ]
    },
    {
      "cell_type": "code",
      "source": [],
      "metadata": {
        "id": "4HGWY-nrPNSf"
      },
      "execution_count": null,
      "outputs": []
    }
  ]
}