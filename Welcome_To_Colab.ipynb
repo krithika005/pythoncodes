{
  "cells": [
    {
      "cell_type": "markdown",
      "metadata": {
        "id": "view-in-github",
        "colab_type": "text"
      },
      "source": [
        "<a href=\"https://colab.research.google.com/github/krithika005/pythoncodes/blob/main/Welcome_To_Colab.ipynb\" target=\"_parent\"><img src=\"https://colab.research.google.com/assets/colab-badge.svg\" alt=\"Open In Colab\"/></a>"
      ]
    },
    {
      "cell_type": "code",
      "source": [
        "# Creating a list with 5 elements\n",
        "my_list = [10, 20, 30, 40, 50]\n",
        "\n",
        "# Accessing elements using index\n",
        "print(\"List:\")\n",
        "print(\"Element at index 0:\", my_list[0])  # Accessing the first element\n",
        "print(\"Elements from index 1 to 3:\", my_list[1:4])  # Accessing a slice of elements\n",
        "\n",
        "\n",
        "# Creating a tuple with 5 elements\n",
        "my_tuple = (1, 2, 3, 4, 5)\n",
        "\n",
        "# Accessing elements using index\n",
        "print(\"\\nTuple:\")\n",
        "print(\"Element at index 2:\", my_tuple[2])  # Accessing the third element\n",
        "print(\"Elements from index 0 to 2:\", my_tuple[:3])  # Accessing elements up to index 2\n",
        "\n",
        "\n",
        "\n",
        "# Creating a dictionary with 5 elements\n",
        "my_dict = {\"a\": 1, \"b\": 2, \"c\": 3, \"d\": 4, \"e\": 5}\n",
        "\n",
        "# Accessing elements using keys\n",
        "print(\"\\nDictionary:\")\n",
        "print(\"Value associated with key 'c':\", my_dict[\"c\"])  # Accessing the value associated with key \"c\"\n",
        "print(\"Value associated with key 'b':\", my_dict.get('b')) #Accessing using get method, returns None if key doesn't exist\n",
        "\n",
        "# Accessing few elements based on the keys\n",
        "print(\"Values for keys 'a', 'c', 'e':\", [my_dict[key] for key in ['a', 'c', 'e']])"
      ],
      "metadata": {
        "id": "NU7P0pxrvX2D"
      },
      "execution_count": null,
      "outputs": []
    }
  ],
  "metadata": {
    "colab": {
      "name": "Welcome To Colab",
      "toc_visible": true,
      "provenance": [],
      "include_colab_link": true
    },
    "kernelspec": {
      "display_name": "Python 3",
      "name": "python3"
    }
  },
  "nbformat": 4,
  "nbformat_minor": 0
}