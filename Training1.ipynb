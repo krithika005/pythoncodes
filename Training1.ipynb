{
  "nbformat": 4,
  "nbformat_minor": 0,
  "metadata": {
    "colab": {
      "provenance": [],
      "authorship_tag": "ABX9TyPLkJK7ZWyiE4/CWXX+Db8M",
      "include_colab_link": true
    },
    "kernelspec": {
      "name": "python3",
      "display_name": "Python 3"
    },
    "language_info": {
      "name": "python"
    }
  },
  "cells": [
    {
      "cell_type": "markdown",
      "metadata": {
        "id": "view-in-github",
        "colab_type": "text"
      },
      "source": [
        "<a href=\"https://colab.research.google.com/github/krithika005/pythoncodes/blob/main/Training.ipynb\" target=\"_parent\"><img src=\"https://colab.research.google.com/assets/colab-badge.svg\" alt=\"Open In Colab\"/></a>"
      ]
    },
    {
      "cell_type": "code",
      "execution_count": null,
      "metadata": {
        "id": "Q4WgolJWuiit"
      },
      "outputs": [],
      "source": [
        "# prompt: python program for standard deviation\n",
        "\n",
        "import math\n",
        "\n",
        "def calculate_standard_deviation(data):\n",
        "    n = len(data)\n",
        "    if n == 0:\n",
        "        return 0  # Handle empty dataset\n",
        "\n",
        "    mean = sum(data) / n\n",
        "    variance = sum([(x - mean) ** 2 for x in data]) / n\n",
        "    standard_deviation = math.sqrt(variance)\n",
        "    return standard_deviation\n",
        "\n",
        "# Example usage\n",
        "data = [2, 4, 4, 4, 5, 5, 7, 9]\n",
        "std_dev = calculate_standard_deviation(data)\n",
        "print(\"Standard Deviation:\", std_dev)\n"
      ]
    }
  ]
}
